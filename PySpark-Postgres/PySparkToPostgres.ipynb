{
 "cells": [
  {
   "cell_type": "code",
   "execution_count": 1,
   "id": "d864c905",
   "metadata": {},
   "outputs": [],
   "source": [
    "import pyspark\n",
    "import pandas as pd\n",
    "import os"
   ]
  },
  {
   "cell_type": "code",
   "execution_count": 2,
   "id": "2ca71b54",
   "metadata": {},
   "outputs": [],
   "source": [
    "from pyspark.sql import SparkSession,Row\n",
    "from pyspark import SparkConf"
   ]
  },
  {
   "cell_type": "code",
   "execution_count": 3,
   "id": "cb1c613f",
   "metadata": {},
   "outputs": [
    {
     "data": {
      "text/plain": [
       "True"
      ]
     },
     "execution_count": 3,
     "metadata": {},
     "output_type": "execute_result"
    }
   ],
   "source": [
    "from dotenv import load_dotenv\n",
    "\n",
    "load_dotenv()\n"
   ]
  },
  {
   "cell_type": "code",
   "execution_count": 4,
   "id": "cd5c4e78",
   "metadata": {},
   "outputs": [
    {
     "name": "stderr",
     "output_type": "stream",
     "text": [
      "22/04/04 10:12:54 WARN Utils: Your hostname, BTCCHL0018 resolves to a loopback address: 127.0.1.1; using 192.168.0.233 instead (on interface wlp44s0)\n",
      "22/04/04 10:12:54 WARN Utils: Set SPARK_LOCAL_IP if you need to bind to another address\n",
      "WARNING: An illegal reflective access operation has occurred\n",
      "WARNING: Illegal reflective access by org.apache.spark.unsafe.Platform (file:/home/stephenraj/spark/jars/spark-unsafe_2.12-3.2.1.jar) to constructor java.nio.DirectByteBuffer(long,int)\n",
      "WARNING: Please consider reporting this to the maintainers of org.apache.spark.unsafe.Platform\n",
      "WARNING: Use --illegal-access=warn to enable warnings of further illegal reflective access operations\n",
      "WARNING: All illegal access operations will be denied in a future release\n",
      "Using Spark's default log4j profile: org/apache/spark/log4j-defaults.properties\n",
      "Setting default log level to \"WARN\".\n",
      "To adjust logging level use sc.setLogLevel(newLevel). For SparkR, use setLogLevel(newLevel).\n",
      "22/04/04 10:12:54 WARN NativeCodeLoader: Unable to load native-hadoop library for your platform... using builtin-java classes where applicable\n"
     ]
    }
   ],
   "source": [
    "spark = SparkSession.builder.appName('Postgres').getOrCreate()\n",
    "#conf = SparkConf().set()\n",
    "#print(conf.getAll())"
   ]
  },
  {
   "cell_type": "code",
   "execution_count": 5,
   "id": "e5099fa9",
   "metadata": {},
   "outputs": [],
   "source": [
    "pd_df = pd.read_excel('tips.xls')"
   ]
  },
  {
   "cell_type": "code",
   "execution_count": 6,
   "id": "69c88485",
   "metadata": {},
   "outputs": [
    {
     "name": "stdout",
     "output_type": "stream",
     "text": [
      "+----------+----+------+------+---+------+----+\n",
      "|total_bill| tip|   sex|smoker|day|  time|size|\n",
      "+----------+----+------+------+---+------+----+\n",
      "|     16.99|1.01|Female|    No|Sun|Dinner|   2|\n",
      "|     10.34|1.66|  Male|    No|Sun|Dinner|   3|\n",
      "|     21.01| 3.5|  Male|    No|Sun|Dinner|   3|\n",
      "|     23.68|3.31|  Male|    No|Sun|Dinner|   2|\n",
      "|     24.59|3.61|Female|    No|Sun|Dinner|   4|\n",
      "|     25.29|4.71|  Male|    No|Sun|Dinner|   4|\n",
      "|      8.77| 2.0|  Male|    No|Sun|Dinner|   2|\n",
      "|     26.88|3.12|  Male|    No|Sun|Dinner|   4|\n",
      "|     15.04|1.96|  Male|    No|Sun|Dinner|   2|\n",
      "|     14.78|3.23|  Male|    No|Sun|Dinner|   2|\n",
      "+----------+----+------+------+---+------+----+\n",
      "only showing top 10 rows\n",
      "\n"
     ]
    },
    {
     "name": "stderr",
     "output_type": "stream",
     "text": [
      "\r",
      "[Stage 0:>                                                          (0 + 1) / 1]\r",
      "\r",
      "                                                                                \r"
     ]
    }
   ],
   "source": [
    "spark_df = spark.createDataFrame(pd_df)\n",
    "spark_df.show(10)"
   ]
  },
  {
   "cell_type": "code",
   "execution_count": 7,
   "id": "a9fa960c",
   "metadata": {},
   "outputs": [
    {
     "name": "stdout",
     "output_type": "stream",
     "text": [
      "+----------+----+------+------+---+------+----+\n",
      "|total_bill| tip|   sex|smoker|day|  time|size|\n",
      "+----------+----+------+------+---+------+----+\n",
      "|     16.99|1.01|Female|    No|Sun|Dinner|   2|\n",
      "|     10.34|1.66|  Male|    No|Sun|Dinner|   3|\n",
      "|     21.01| 3.5|  Male|    No|Sun|Dinner|   3|\n",
      "|     23.68|3.31|  Male|    No|Sun|Dinner|   2|\n",
      "|     24.59|3.61|Female|    No|Sun|Dinner|   4|\n",
      "|     25.29|4.71|  Male|    No|Sun|Dinner|   4|\n",
      "|      8.77| 2.0|  Male|    No|Sun|Dinner|   2|\n",
      "|     26.88|3.12|  Male|    No|Sun|Dinner|   4|\n",
      "|     15.04|1.96|  Male|    No|Sun|Dinner|   2|\n",
      "|     14.78|3.23|  Male|    No|Sun|Dinner|   2|\n",
      "|     10.27|1.71|  Male|    No|Sun|Dinner|   2|\n",
      "|     35.26| 5.0|Female|    No|Sun|Dinner|   4|\n",
      "|     15.42|1.57|  Male|    No|Sun|Dinner|   2|\n",
      "|     18.43| 3.0|  Male|    No|Sun|Dinner|   4|\n",
      "|     14.83|3.02|Female|    No|Sun|Dinner|   2|\n",
      "|     21.58|3.92|  Male|    No|Sun|Dinner|   2|\n",
      "|     10.33|1.67|Female|    No|Sun|Dinner|   3|\n",
      "|     16.29|3.71|  Male|    No|Sun|Dinner|   3|\n",
      "|     16.97| 3.5|Female|    No|Sun|Dinner|   3|\n",
      "|     20.65|3.35|  Male|    No|Sat|Dinner|   3|\n",
      "+----------+----+------+------+---+------+----+\n",
      "only showing top 20 rows\n",
      "\n"
     ]
    }
   ],
   "source": [
    "spark_df.select('*').show()"
   ]
  },
  {
   "cell_type": "code",
   "execution_count": 9,
   "id": "76552d55",
   "metadata": {},
   "outputs": [],
   "source": [
    "spark_df.select('*').write.format(\"jdbc\").option(\"url\",f\"jdbc:postgresql://{os.getenv('host')}:{os.getenv('port')}/{os.getenv('database')}\").option(\"driver\",\"org.postgresql.Driver\").option(\"dbtable\",\"tips\").option(\"user\",os.getenv('user')).option(\"password\", os.getenv('password')).save()\n",
    "                                "
   ]
  },
  {
   "cell_type": "code",
   "execution_count": 10,
   "id": "bf67fc3b",
   "metadata": {},
   "outputs": [],
   "source": [
    "df = spark.read.jdbc(\"jdbc:postgresql://localhost:5432/Test\",\"public.tips\", properties={\"user\": \"postgres\", \"password\": 'root', \"driver\":\"org.postgresql.Driver\"})"
   ]
  },
  {
   "cell_type": "code",
   "execution_count": 11,
   "id": "d6f3b56e",
   "metadata": {},
   "outputs": [
    {
     "name": "stdout",
     "output_type": "stream",
     "text": [
      "+----------+----+------+------+---+------+----+\n",
      "|total_bill| tip|   sex|smoker|day|  time|size|\n",
      "+----------+----+------+------+---+------+----+\n",
      "|     14.07| 2.5|  Male|    No|Sun|Dinner|   2|\n",
      "|     13.13| 2.0|  Male|    No|Sun|Dinner|   2|\n",
      "|     17.26|2.74|  Male|    No|Sun|Dinner|   3|\n",
      "|     24.55| 2.0|  Male|    No|Sun|Dinner|   4|\n",
      "|     19.77| 2.0|  Male|    No|Sun|Dinner|   4|\n",
      "|     29.85|5.14|Female|    No|Sun|Dinner|   5|\n",
      "|     48.17| 5.0|  Male|    No|Sun|Dinner|   6|\n",
      "|      25.0|3.75|Female|    No|Sun|Dinner|   4|\n",
      "|     13.39|2.61|Female|    No|Sun|Dinner|   2|\n",
      "|     16.49| 2.0|  Male|    No|Sun|Dinner|   4|\n",
      "|      21.5| 3.5|  Male|    No|Sun|Dinner|   4|\n",
      "|     12.66| 2.5|  Male|    No|Sun|Dinner|   2|\n",
      "|     16.21| 2.0|Female|    No|Sun|Dinner|   3|\n",
      "|     13.81| 2.0|  Male|    No|Sun|Dinner|   2|\n",
      "|     17.51| 3.0|Female|   Yes|Sun|Dinner|   2|\n",
      "|     24.52|3.48|  Male|    No|Sun|Dinner|   3|\n",
      "|     20.76|2.24|  Male|    No|Sun|Dinner|   2|\n",
      "|     31.71| 4.5|  Male|    No|Sun|Dinner|   4|\n",
      "|     10.59|1.61|Female|   Yes|Sat|Dinner|   2|\n",
      "|     10.63| 2.0|Female|   Yes|Sat|Dinner|   2|\n",
      "+----------+----+------+------+---+------+----+\n",
      "only showing top 20 rows\n",
      "\n"
     ]
    }
   ],
   "source": [
    "df.show()"
   ]
  },
  {
   "cell_type": "code",
   "execution_count": null,
   "id": "e6d7937b",
   "metadata": {},
   "outputs": [],
   "source": []
  },
  {
   "cell_type": "code",
   "execution_count": null,
   "id": "02eee7ac",
   "metadata": {},
   "outputs": [],
   "source": []
  }
 ],
 "metadata": {
  "kernelspec": {
   "display_name": "Python 3 (ipykernel)",
   "language": "python",
   "name": "python3"
  },
  "language_info": {
   "codemirror_mode": {
    "name": "ipython",
    "version": 3
   },
   "file_extension": ".py",
   "mimetype": "text/x-python",
   "name": "python",
   "nbconvert_exporter": "python",
   "pygments_lexer": "ipython3",
   "version": "3.8.10"
  }
 },
 "nbformat": 4,
 "nbformat_minor": 5
}
